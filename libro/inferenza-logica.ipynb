{
  "cells": [
    {
      "cell_type": "markdown",
      "metadata": {},
      "source": [
        "# Inferenza Logica \n",
        "\n",
        "## Laboratorio Python: inferenza logica {#sec-lab-inferenza-logica-in-python}\n",
        "\n",
        "In questo paragrafo, useremo la libreria [**SymPy**](https://www.sympy.org/en/index.html) dell'ecosistema Python per creare un semplice sistema esperto basato sull'inferenza logica nell'ambito del diritto penale. Questo sistema aiuterà a determinare se determinati comportamenti costituiscono un reato, in base ai fatti noti e alle norme applicabili. Si noti che la libreria **SymPy** è stata sviluppata per consentire il calcolo simbolico in Python. In questo caso useremo le funzionalità di calcolo simbolico per la rappresentazione della conoscenza e per l'inferenza logica.\n",
        "\n",
        "\n",
        "### Esperimento 1: Semplice applicazione della inferenza logica al Diritto penale\n",
        "\n",
        "Il diritto penale si basa su norme che definiscono quali comportamenti sono considerati reati e quali elementi devono essere presenti affinché un'azione sia punibile. Un sistema esperto in questo contesto può aiutare a: - Valutare se un'azione specifica costituisce un reato. - Identificare gli elementi costitutivi del reato. - Fornire una base logica per decisioni legali. Utilizzeremo SymPy per modellare proposizioni logiche, regole legali e per effettuare inferenze.\n",
        "\n",
        "::: callout-caution\n",
        "Nota: Assicurati di avere SymPy installato. Altrimenti, installalo da terminale con:\n",
        "\n",
        "```         \n",
        "pip install sympy\n",
        "```\n",
        ":::\n",
        "\n",
        "**Glossario dei termini usati**\n",
        "\n",
        "-   **Fatti**: Eventi o comportamenti specifici accaduti, rilevanti per il diritto penale in quanto potenzialmente costituenti reato o circostanze di esclusione della responsabilità.\n",
        "-   **Reati**: Condotte umane attive o omissive, tipiche, antigiuridiche e colpevoli, sanzionate dalla legge penale.\n",
        "-   **Elementi Costitutivi del Reato**: Presupposti oggettivi e soggettivi richiesti dalla norma incriminatrice per configurare un fatto come reato, tra cui la condotta (azione o omissione), il dolo o la colpa, il nesso di causalità e l’assenza di cause di giustificazione.\n",
        "-   **Regole Legali**: Norme giuridiche che stabiliscono i presupposti di fatto e di diritto in presenza dei quali un comportamento umano è qualificabile come reato e punibile mediante una sanzione.\n",
        "\n",
        "**Modellazione con SymPy**"
      ]
    },
    {
      "cell_type": "code",
      "execution_count": null,
      "metadata": {},
      "outputs": [],
      "source": [
        "# **Passo 1: Importare i Moduli Necessari** \n",
        "# Importiamo i moduli necessari da SymPy per \n",
        "# lavorare con la logica proposizionale.\n",
        "\n",
        "from sympy import symbols\n",
        "from sympy.logic.boolalg import And, Or, Not, Implies, Equivalent\n",
        "from sympy.logic.inference import satisfiable\n",
        "\n",
        "# **Passo 2: Definire le Proposizioni Logiche** Definiamo le variabili che rappresentano \n",
        "# i fatti e gli elementi costitutivi del reato.\n",
        "\n",
        "# Fatti\n",
        "Azione, Intenzione, NessoCausale = symbols('Azione Intenzione NessoCausale')\n",
        "\n",
        "# Reato\n",
        "Omicidio = symbols('Omicidio')\n",
        "\n",
        "#**Passo 3: Definire le Regole che discendono dal Codice Penale** Ad esempio, secondo il codice \n",
        "# penale, l'omicidio richiede: \n",
        "# - **Azione**: Causare la morte di una persona. \n",
        "# - **Intenzione**: Volontà di causare la morte (dolo). \n",
        "# - **Nesso Causale**: La morte è conseguenza dell'azione. Definiamo la regola:\n",
        "\n",
        "# Regola: \n",
        "# Se c'è Azione, Intenzione e Nesso Causale, allora si configura l'Omicidio\n",
        "# regola_omicidio: And(Azione, Intenzione, NessoCausale) -> Omicidio\n",
        "regola_omicidio = Implies(And(Azione, Intenzione, NessoCausale), Omicidio)\n",
        "\n",
        "# **Passo 4: Definire i Fatti Noti** \n",
        "# Supponiamo di avere i seguenti fatti: \n",
        "# - Una persona ha compiuto un'azione che ha causato la morte di un'altra. \n",
        "# - Aveva l'intenzione di causare la morte. \n",
        "# - Esiste un nesso causale tra l'azione e la morte.\n",
        "\n",
        "fatto1 = Azione  # L'azione di causare la morte\n",
        "fatto2 = Intenzione  # Intenzione di causare la morte\n",
        "fatto3 = NessoCausale  # La morte è conseguenza dell'azione\n",
        "\n",
        "# **Passo 5: Creare la Base di Conoscenza** \n",
        "# Combiniamo fatti e regole:\n",
        "# Base di conoscenza\n",
        "base_conoscenza = And(fatto1, fatto2, fatto3, regola_omicidio)\n",
        "\n",
        "# **Passo 6: Inferenza Logica** \n",
        "# Verifichiamo se, sulla base dei fatti e delle regole, possiamo concludere che si \n",
        "# tratta di omicidio.\n",
        "# Verifichiamo se Omicidio è deducibile\n",
        "ipotesi = And(base_conoscenza, Not(Omicidio))\n",
        "risultato = satisfiable(ipotesi)\n",
        "\n",
        "if not risultato:\n",
        "    print(\"Si configura il reato di omicidio.\")\n",
        "else:\n",
        "    print(\"Non possiamo concludere che si tratti di omicidio.\")"
      ]
    },
    {
      "cell_type": "markdown",
      "metadata": {},
      "source": [
        "### Esperimento 2: Mancanza di intenzione\n",
        "\n",
        "**Caso con Mancanza di Intenzione** Supponiamo che l'intenzione non sia presente (ad esempio, si tratta di omicidio colposo)."
      ]
    },
    {
      "cell_type": "code",
      "execution_count": null,
      "metadata": {},
      "outputs": [],
      "source": [
        "# Fatti noti senza Intenzione\n",
        "fatto1 = Azione\n",
        "fatto2 = Not(Intenzione)  # Mancanza di intenzione\n",
        "fatto3 = NessoCausale\n",
        "\n",
        "# Base di conoscenza aggiornata\n",
        "base_conoscenza = And(fatto1, fatto2, fatto3, regola_omicidio)\n",
        "# **Inferenza per Omicidio**\n",
        "# Inferenza\n",
        "ipotesi = And(base_conoscenza, Not(Omicidio))\n",
        "risultato = satisfiable(ipotesi)\n",
        "\n",
        "if not risultato:\n",
        "    print(\"Si configura il reato di omicidio.\")\n",
        "else:\n",
        "    print(\"Non possiamo concludere che si tratti di omicidio.\")"
      ]
    },
    {
      "cell_type": "markdown",
      "metadata": {},
      "source": [
        "### Esperimento 3: Omicidio Colposo\n",
        "\n",
        "Aggiungiamo la regola per l'**omicidio colposo**:"
      ]
    },
    {
      "cell_type": "code",
      "execution_count": null,
      "metadata": {},
      "outputs": [],
      "source": [
        "# Definizione del reato di Omicidio Colposo\n",
        "OmicidioColposo = symbols('OmicidioColposo')\n",
        "\n",
        "# Regola per Omicidio Colposo: \n",
        "# Azione e Nesso Causale senza Intenzione\n",
        "# regola_omicidio_colposo: And(Azione, Not(Intenzione), NessoCausale) -> OmicidioColposo\n",
        "regola_omicidio_colposo = Implies(And(Azione, Not(Intenzione), NessoCausale), OmicidioColposo)\n",
        "\n",
        "# Aggiorniamo la base di conoscenza\n",
        "base_conoscenza = And(fatto1, fatto2, fatto3, regola_omicidio, regola_omicidio_colposo)\n",
        "\n",
        "# **Inferenza per Omicidio Colposo**\n",
        "# Verifichiamo se si configura l'Omicidio Colposo\n",
        "ipotesi = And(base_conoscenza, Not(OmicidioColposo))\n",
        "risultato = satisfiable(ipotesi)\n",
        "\n",
        "if not risultato:\n",
        "    print(\"Si configura il reato di omicidio colposo.\")\n",
        "else:\n",
        "    print(\"Non possiamo concludere che si tratti di omicidio colposo.\")"
      ]
    },
    {
      "cell_type": "markdown",
      "metadata": {},
      "source": [
        "Ricorda che questo è un modello semplificato e che il diritto penale è complesso e richiede una comprensione approfondita per essere modellato accuratamente. Questo sistema può essere un punto di partenza per sviluppi più avanzati e per esplorare l'intersezione tra intelligenza artificiale e diritto. Esplorazione che il lettore è invitato a sviluppare ulteriormente svolgendo gli esercizi proposti.\n"
      ]
    }
  ],
  "metadata": {
    "kernelspec": {
      "display_name": "Python 3 (ipykernel)",
      "language": "python",
      "name": "python3",
      "path": "C:\\Users\\lcapitanio\\AppData\\Local\\Packages\\PythonSoftwareFoundation.Python.3.12_qbz5n2kfra8p0\\LocalCache\\local-packages\\share\\jupyter\\kernels\\python3"
    }
  },
  "nbformat": 4,
  "nbformat_minor": 4
}
