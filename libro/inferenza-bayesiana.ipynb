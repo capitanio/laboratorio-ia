{
  "cells": [
    {
      "cell_type": "markdown",
      "metadata": {},
      "source": [
        "# Inferenza Bayesiana\n",
        "\n",
        "## laboratorio di Python \n",
        "\n",
        "### Esperimento 1 - Inferenza Bayesiana\n",
        "\n",
        "La  formula di Bayes descrive la probabilità condizionata di un evento A dato un evento B. La formula è la seguente:\n",
        "$$    \n",
        "P(A|B) = \\frac{P(B|A) \\cdot P(A)}{P(B)}\n",
        "$$\n",
        "\n",
        "Il denominatore P(B) può essere calcolato nel seguente modo:\n",
        "$$\n",
        "P(B) = P(B|A) \\cdot P(A) + P(B|\\neg A) \\cdot P(\\neg A)\n",
        "$$\n",
        "\n",
        "Una possibile implementazione in Python della formula di Bayes è la seguente:\n"
      ]
    },
    {
      "cell_type": "code",
      "execution_count": 1,
      "metadata": {},
      "outputs": [],
      "source": [
        "def bayes_theorem(p_a, p_b_dato_a, p_b_dato_not_a):\n",
        "  # Calcola la probabilità di B dato A\n",
        "  p_a_dato_b = (p_b_dato_a * p_a) / (p_b_dato_a * p_a + p_b_dato_not_a * (1 - p_a))\n",
        "  return p_a_dato_b"
      ]
    },
    {
      "cell_type": "markdown",
      "metadata": {},
      "source": [
        "\n",
        "Proviamo ad applicare la formula a un semplice caso penale. Immaginiamo di avere le seguenti informazioni:\n",
        "\n",
        "- P(condanna) = 0.1;\n",
        "- P(precedenti|condanna) = 0.8;\n",
        "- P(precedenti|non condanna) = 0.1;\n",
        "\n",
        "Calcoliamo la probabilità di condanna dato che ci sono precedenti penali."
      ]
    },
    {
      "cell_type": "code",
      "execution_count": 2,
      "metadata": {},
      "outputs": [
        {
          "name": "stdout",
          "output_type": "stream",
          "text": [
            "La probabilità di condanna a priori è: 10.0%\n",
            "La probabilità di condanna dato che ci sono precedenti penali è: 47.1%\n",
            "Il fattore di Bayes è: 4.71\n",
            "Quindi il fatto di sapere che l'imputato ha precedenti penali moltiplica di 4.71 volte la probabilità di condanna!\n"
          ]
        }
      ],
      "source": [
        "# Esempio di applicazione al caso penale\n",
        "# Probabilità a priori\n",
        "p_precedenti = 0.2  # P(precedenti)\n",
        "p_condanna = 0.1    # P(condanna)\n",
        "p_precedenti_dato_condanna = 0.8  # P(precedenti|condanna)\n",
        "\n",
        "# Calcolo della probabilità di condanna dato che ci sono precedenti\n",
        "p_condanna_dato_precedenti = bayes_theorem(\n",
        "    p_a=p_condanna,\n",
        "    p_b_dato_a=p_precedenti_dato_condanna,\n",
        "    p_b_dato_not_a=0.1  # P(precedenti|non condanna)\n",
        ")\n",
        "fattore_bayes = p_condanna_dato_precedenti / p_condanna\n",
        "# Stampa i risultati\n",
        "print(f\"La probabilità di condanna a priori è: {p_condanna:.1%}\")\n",
        "print(f\"La probabilità di condanna dato che ci sono precedenti penali è: {p_condanna_dato_precedenti:.1%}\")\n",
        "print(f\"Il fattore di Bayes è: {fattore_bayes:.2f}\")\n",
        "print(f\"Quindi il fatto di sapere che l'imputato ha precedenti penali moltiplica di {fattore_bayes:.2f} volte la probabilità di condanna!\")"
      ]
    },
    {
      "cell_type": "markdown",
      "metadata": {},
      "source": [
        "### Esperimento 2 - Reti bayesiane\n",
        "\n",
        "Scriviamo insieme il codice Python necessario per creare un modello di Rete Bayesiana per analizzare la probabilità di colpevolezza di un sospetto in un'indagine criminale. \n",
        "Tenendo conto del fatto che i modelli sono sempre un'approssimazione del mondo reale, si può utilizzare la teoria delle reti di Bayes per modellare la probabilità di un evento in base a vari fattori di prova.\n",
        "Il modello considera solo tre elementi di prova: la presenza di un'arma (Arma), un movente (Movente) e un alibi (Alibi), e come questi influenzano la probabilità di colpevolezza (Colpevolezza).\n",
        "\n",
        "Il codice non richiederà input diretti dall'utente. Invece, definisce la struttura della Rete Bayesiana e imposta le tabelle di probabilità per ciascun fattore basate su valori predefiniti che dovrebbero essere estrapolati da statistiche sulle indagini criminali.\n",
        "\n",
        "**Descrizione del codice**\n",
        "\n",
        "L'output di questo codice è:\n",
        "\n",
        "- un modello di Rete Bayesiana verificato;\n",
        "- la stampa del modello;\n",
        "- la stampa delle Distribuzioni di Probabilità Condizionata (CPD) per ogni variabile nella rete;\n",
        "- il grafo della rete Bayesiana.\n",
        "\n",
        "Inizialmente, definiamo la struttura della Rete Bayesiana, mostrando come i fattori di prova (Arma, Movente, Alibi) influenzano la colpevolezza (Colpevolezza).\n",
        "Quindi, definiamo le tabelle di probabilità per ciascun fattore. Ad esempio, la probabilità che un'arma sia presente sia presente sul luogo del delitto la poniamo pari al 70% (0.7) e la sua assenza al 30% (0.3). Più complessa è la definizione della tabella di probabilità per la colpevolezza, che considera tutte le possibili combinazioni dei fattori di prova.\n",
        "Tutte queste tabelle sono aggiunte al modello di Rete Bayesiana.\n",
        "Infine, verifichiamo se il modello è definito correttamente e stampiamo tutte le distribuzioni di probabilità.\n",
        "\n",
        "La logica chiave in questo codice è come esso rappresenta le relazioni tra diversi elementi di prova e la colpevolezza. Ad esempio, la presenza di un'arma, un movente e la mancanza di un alibi aumenterebbero la probabilità di colpevolezza, mentre la loro assenza la diminuirebbe. Questo è riflesso nella tabella di probabilità per 'Colpevolezza', che considera tutte le possibili combinazioni di prove:\n",
        "\n",
        "| Arma | Motivo | Alibi | P(Non Colpevole) | P(Colpevole) |\n",
        "|------|--------|-------|------------------|--------------|\n",
        "|  0   |   0    |   0   |       0.9        |     0.1      |\n",
        "|  0   |   0    |   1   |       0.99       |     0.01     |\n",
        "|  0   |   1    |   0   |       0.7        |     0.3      |\n",
        "|  0   |   1    |   1   |       0.79       |     0.21     |\n",
        "|  1   |   0    |   0   |       0.5        |     0.5      |\n",
        "|  1   |   0    |   1   |       0.59       |     0.41     |\n",
        "|  1   |   1    |   0   |       0.2        |     0.8      |\n",
        "|  1   |   1    |   1   |       0.1        |     0.9      |\n",
        "\n",
        "In questa tabella:\n",
        "\n",
        "- 0 rappresenta l'assenza (di arma, movente o alibi)\n",
        "- 1 rappresenta la presenza\n",
        "\n",
        "Le ultime due colonne mostrano le probabilità di non colpevolezza e colpevolezza per ogni combinazione di evidenze\n",
        "\n",
        "Questa Rete Bayesiana può essere utilizzata per calcolare la probabilità di colpevolezza dato uno scenario di prove, aiutando gli inquirenti a quantificare e ragionare sull'incertezza nei casi criminali.\n",
        "\n",
        "::: {.callout-caution}\n",
        "Se non abbiamo mai installato le librerie pgmpy, networkx e matplotlib, l'interprete Python segnalerà che pgmpy non è riconosciuta. In questo caso è necessario installare le librerie necessarie eseguendo il seguente blocco di codice:\n",
        "```\n",
        "!pip install pgmpy networkx matplotlib\n",
        "```\n",
        "\n",
        ":::"
      ]
    },
    {
      "cell_type": "code",
      "execution_count": 3,
      "metadata": {},
      "outputs": [
        {
          "name": "stdout",
          "output_type": "stream",
          "text": [
            "Il modello è corretto:  True\n",
            "CPD di Arma:\n",
            "+---------+-----+\n",
            "| Arma(0) | 0.7 |\n",
            "+---------+-----+\n",
            "| Arma(1) | 0.3 |\n",
            "+---------+-----+\n",
            "CPD di Movente:\n",
            "+------------+-----+\n",
            "| Movente(0) | 0.6 |\n",
            "+------------+-----+\n",
            "| Movente(1) | 0.4 |\n",
            "+------------+-----+\n",
            "CPD di Alibi:\n",
            "+----------+-----+\n",
            "| Alibi(0) | 0.5 |\n",
            "+----------+-----+\n",
            "| Alibi(1) | 0.5 |\n",
            "+----------+-----+\n",
            "CPD di Colpevolezza:\n",
            "+-----------------+------------+-----+------------+------------+\n",
            "| Arma            | Arma(0)    | ... | Arma(1)    | Arma(1)    |\n",
            "+-----------------+------------+-----+------------+------------+\n",
            "| Movente         | Movente(0) | ... | Movente(1) | Movente(1) |\n",
            "+-----------------+------------+-----+------------+------------+\n",
            "| Alibi           | Alibi(0)   | ... | Alibi(0)   | Alibi(1)   |\n",
            "+-----------------+------------+-----+------------+------------+\n",
            "| Colpevolezza(0) | 0.1        | ... | 0.8        | 0.9        |\n",
            "+-----------------+------------+-----+------------+------------+\n",
            "| Colpevolezza(1) | 0.9        | ... | 0.2        | 0.1        |\n",
            "+-----------------+------------+-----+------------+------------+\n"
          ]
        }
      ],
      "source": [
        "from pgmpy.models import BayesianNetwork\n",
        "from pgmpy.factors.discrete import TabularCPD\n",
        "\n",
        "# Definizione del modello\n",
        "model = BayesianNetwork([('Arma', 'Colpevolezza'),\n",
        "                       ('Movente', 'Colpevolezza'),\n",
        "                       ('Alibi', 'Colpevolezza')])\n",
        "\n",
        "# Definizione delle probabilità condizionate\n",
        "cpd_arma = TabularCPD(variable='Arma', variable_card=2,\n",
        "                      values=[[0.7], [0.3]])\n",
        "cpd_Movente = TabularCPD(variable='Movente', variable_card=2,\n",
        "                        values=[[0.6], [0.4]])\n",
        "cpd_alibi = TabularCPD(variable='Alibi', variable_card=2,\n",
        "                       values=[[0.5], [0.5]])\n",
        "cpd_colpevolezza = TabularCPD(variable='Colpevolezza', variable_card=2,\n",
        "                              values=[[0.1, 0.01, 0.3, 0.21, 0.5, 0.41, 0.8, 0.9],\n",
        "                                      [0.9, 0.99, 0.7, 0.79, 0.5, 0.59, 0.2, 0.1]],\n",
        "                              evidence=['Arma', 'Movente', 'Alibi'],\n",
        "                              evidence_card=[2, 2, 2])\n",
        "\n",
        "# Aggiunta delle probabilità condizionate al modello\n",
        "model.add_cpds(cpd_arma, cpd_Movente, cpd_alibi, cpd_colpevolezza)\n",
        "\n",
        "# Verifica del modello\n",
        "print(\"Il modello è corretto: \", model.check_model())\n",
        "\n",
        "# Stampa del modello\n",
        "for cpd in model.get_cpds():\n",
        "    print(\"CPD di {variable}:\".format(variable=cpd.variable))\n",
        "    print(cpd)"
      ]
    },
    {
      "cell_type": "markdown",
      "metadata": {},
      "source": [
        "Possiamo anche visualizzare la rete di Bayes con il seguente codice:"
      ]
    },
    {
      "cell_type": "code",
      "execution_count": 4,
      "metadata": {},
      "outputs": [
        {
          "data": {
            "image/png": "[encoded data removed]",
            "text/plain": [
              "<Figure size 640x480 with 1 Axes>"
            ]
          },
          "metadata": {},
          "output_type": "display_data"
        }
      ],
      "source": [
        "import networkx as nx\n",
        "import matplotlib.pyplot as plt\n",
        "\n",
        "# Assumendo che 'model' sia il tuo BayesianNetwork già definito\n",
        "G = nx.DiGraph()\n",
        "G.add_edges_from(model.edges())\n",
        "\n",
        "pos = nx.spring_layout(G)\n",
        "nx.draw(G, pos, with_labels=True, node_color='lightblue',\n",
        "        node_size=3000, arrowsize=20, font_size=12, font_weight='bold')\n",
        "\n",
        "plt.title(\"Rete di Bayes per l'Analisi della Colpevolezza\")\n",
        "plt.axis('off')\n",
        "plt.show()"
      ]
    },
    {
      "cell_type": "markdown",
      "metadata": {},
      "source": [
        "Infine, una volta costruita la rete di Bayes possiamo interrogarla per avere una stima della probabilità di un determinato evento.\n",
        "Qual è la probabiltà che un indagato senza alibi, senza movente e in assenza di arma del delitto sia colpevole?"
      ]
    },
    {
      "cell_type": "code",
      "execution_count": 5,
      "metadata": {},
      "outputs": [
        {
          "name": "stdout",
          "output_type": "stream",
          "text": [
            "Probabilità di colpevolezza:\n",
            "0.1\n",
            "Probabilità di innocenza:\n",
            "0.9\n"
          ]
        }
      ],
      "source": [
        "from pgmpy.inference import VariableElimination\n",
        "\n",
        "# Creiamo un oggetto per l'inferenza\n",
        "inference = VariableElimination(model)\n",
        "\n",
        "# Definiamo l'evidenza per la situazione descritta\n",
        "evidence = {\n",
        "    'Alibi': 0,  # 0 rappresenta l'assenza di alibi\n",
        "    'Movente': 0, # 0 rappresenta l'assenza di motivo\n",
        "    'Arma': 0    # 0 rappresenta che l'arma non è stata trovata\n",
        "}\n",
        "\n",
        "# Calcoliamo la probabilità di colpevolezza dato l'evidenza\n",
        "result = inference.query(['Colpevolezza'], evidence=evidence)\n",
        "\n",
        "# Stampiamo il risultato\n",
        "print(\"Probabilità di colpevolezza:\")\n",
        "print(result.values[0])\n",
        "print(\"Probabilità di innocenza:\")\n",
        "print(result.values[1])"
      ]
    },
    {
      "cell_type": "code",
      "execution_count": 10,
      "metadata": {},
      "outputs": [
        {
          "name": "stdout",
          "output_type": "stream",
          "text": [
            "Probabilità di colpevolezza:\n",
            "0.5\n",
            "Probabilità di innocenza:\n",
            "0.5\n"
          ]
        }
      ],
      "source": [
        "from pgmpy.inference import VariableElimination\n",
        "\n",
        "# Creiamo un oggetto per l'inferenza\n",
        "inference = VariableElimination(model)\n",
        "\n",
        "# Definiamo l'evidenza per la situazione descritta\n",
        "evidence = {\n",
        "    'Alibi': 0,   # 1 rappresenta la presenza di alibi\n",
        "    'Movente': 0, # 0 rappresenta l'assenza di motivo\n",
        "    'Arma': 1     # 0 rappresenta che l'arma non è stata trovata\n",
        "}\n",
        "\n",
        "# Calcoliamo la probabilità di colpevolezza dato l'evidenza\n",
        "result = inference.query(['Colpevolezza'], evidence=evidence)\n",
        "\n",
        "# Stampiamo il risultato\n",
        "print(\"Probabilità di colpevolezza:\")\n",
        "print(result.values[0])\n",
        "print(\"Probabilità di innocenza:\")\n",
        "print(result.values[1])"
      ]
    }
  ],
  "metadata": {
    "kernelspec": {
      "display_name": "Python 3",
      "language": "python",
      "name": "python3"
    },
    "language_info": {
      "codemirror_mode": {
        "name": "ipython",
        "version": 3
      },
      "file_extension": ".py",
      "mimetype": "text/x-python",
      "name": "python",
      "nbconvert_exporter": "python",
      "pygments_lexer": "ipython3",
      "version": "3.12.4"
    }
  },
  "nbformat": 4,
  "nbformat_minor": 4
}
