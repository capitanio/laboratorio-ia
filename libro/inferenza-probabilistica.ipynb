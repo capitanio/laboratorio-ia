{
  "cells": [
    {
      "cell_type": "markdown",
      "metadata": {},
      "source": [
        "# Inferenza Probabilistica \n",
        "\n",
        "## Laboratorio Python: inferenza probabilistica\n",
        "\n",
        "### Esperimento 1: Variabili aleatorie\n",
        "\n",
        "Nell’inferenza probabilistica si è interessati alla probabilità che una certa variabile aleatoria assuma un certo valore. Ad esempio, in un determinato processo penale si potrebbe avere:\n",
        "\n",
        "-   P(sentenza = «Non luogo a procedere») = 0,1\n",
        "-   P(sentenza = «Proscioglimento») = 0,1\n",
        "-   P(sentenza = «Condanna») = 0,8\n",
        "\n",
        "Per codificare la variabile aleatoria “sentenza” in Python, si può utilizzare ad esempio la struttura dati dizionario che mappa i possibili esiti (“Non luogo a procedere”, “Proscioglimento”, “Condanna”) ai rispettivi valori numerici di probabilità. Ecco un esempio di come si potrebbe codificare la variabile aleatoria “sentenza” in Python utilizzando un dizionario:"
      ]
    },
    {
      "cell_type": "code",
      "execution_count": null,
      "metadata": {},
      "outputs": [],
      "source": [
        "# Definizione della variabile aleatoria sentenza con i suoi possibili valori\n",
        "sentenza = {\n",
        "    \"Non luogo a procedere\": 0.128, # probabilità del 12.8% di non luogo a procedere\n",
        "    \"Proscioglimento\": 0.548,       # probabilità del 54.8% di proscioglimento\n",
        "    \"Condanna\": 0.324               # probabilità del 32.4% di condanna\n",
        "}\n",
        "somma = 0\n",
        "for esito, probabilita in sentenza.items():\n",
        "    print(f\"La probabilità di '{esito}' è: {probabilita}\")\n",
        "    somma = somma + probabilita\n",
        "print(\" la somma delle probabilità è pari a \", somma)"
      ]
    },
    {
      "cell_type": "markdown",
      "metadata": {},
      "source": [
        "### Esperimento 2: Probabilità condizionate\n",
        "\n",
        "Posto che si hanno le seguenti variabili aleatorie:\n",
        "- a = colpevole\n",
        "- b = prova schiacciante\n",
        "\n",
        "e che si hanno le seguenti informazioni raccolte in un contesto giuridico penale:\n",
        "\n",
        "- P(a|b) = 0.95\n",
        "- P(a|¬b) = 0.2\n",
        "- P(b) = 0.3\n",
        "\n",
        "Utilizziamo la formula di condizionamento per calcolare la probabilità di colpevolezza: \n",
        "\n",
        "P(a)= P(a|b)P(b) + P(a|¬b)P(¬b);\n",
        "\n",
        "La codifica in Python è la seguente:"
      ]
    },
    {
      "cell_type": "code",
      "execution_count": null,
      "metadata": {},
      "outputs": [],
      "source": [
        "Pa_cond_b    = 0.95\n",
        "Pa_cond_nonb = 0.2\n",
        "Pb = 0.3\n",
        "Pnonb = 1 - Pb\n",
        "Pa = Pa_cond_b * Pb + Pa_cond_nonb * Pnonb\n",
        "print(f\"La probabilità che un imputato sia condannato è: {Pa}\")"
      ]
    },
    {
      "cell_type": "markdown",
      "metadata": {},
      "source": [
        "### Esperimento 3: Probabilità congiunta\n",
        "\n",
        "Supponiamo di avere le seguenti variabili aleatorie:\n",
        "- a = condanna\n",
        "- b = prova schiacciante\n",
        "\n",
        "  e che si hanno le seguenti informazioni raccolte in un contesto giuridico penale:\n",
        "  - P(a) = 0.8\n",
        "  - P(b) = 0.3\n",
        "  - P(a|b) = 0.95\n",
        "\n",
        "Per calcolare la probabilità congiunta di a,b si utilizza la formula:\n",
        "P(a,b) = P(a|b)P(b)\n",
        "La codifica in Python è la seguente:"
      ]
    },
    {
      "cell_type": "code",
      "execution_count": null,
      "metadata": {},
      "outputs": [],
      "source": [
        "Pa = 0.8\n",
        "Pb = 0.3\n",
        "Pa_cond_b = 0.95\n",
        "Pab = Pa_cond_b * Pb\n",
        "print(f\"La probabilità congiunta di a,b è: {Pab}\")"
      ]
    }
  ],
  "metadata": {
    "kernelspec": {
      "display_name": "Python 3 (ipykernel)",
      "language": "python",
      "name": "python3",
      "path": "C:\\Users\\lcapitanio\\AppData\\Local\\Packages\\PythonSoftwareFoundation.Python.3.12_qbz5n2kfra8p0\\LocalCache\\local-packages\\share\\jupyter\\kernels\\python3"
    }
  },
  "nbformat": 4,
  "nbformat_minor": 4
}
