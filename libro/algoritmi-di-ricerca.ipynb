{
  "cells": [
    {
      "cell_type": "markdown",
      "metadata": {},
      "source": [
        "# Algoritmi di Ricerca\n",
        "\n",
        "## Laboratorio Python\n",
        "\n",
        "### Esperimento 1: Algoritmi di ricerca non informata {#sec-algoritmi-di-ricerca-non-informata-in-python}\n",
        "\n",
        "L'algoritmo generale di ricerca può essere ulteriormente dettaglia in un linguaggio pseudo-Python come segue:\n",
        "\n",
        "``` python\n",
        "\n",
        "Funzione RicercaGenerale(stato_iniziale, obiettivo, strategia):\n",
        "    # Inizializza la frontiera con lo stato iniziale\n",
        "    frontiera = CreaStrutturaDati(strategia)\n",
        "    Aggiungi(frontiera, stato_iniziale)\n",
        "\n",
        "    # Inizializza l'insieme dei nodi visitati (opzionale, per evitare cicli)\n",
        "    visitati = InsiemeVuoto()\n",
        "\n",
        "    Mentre la frontiera non è vuota:\n",
        "        # Rimuovi un nodo dalla frontiera seguendo la strategia scelta\n",
        "        nodo_corrente = Rimuovi(frontiera)\n",
        "\n",
        "        # Controlla se lo stato corrente soddisfa l'obiettivo\n",
        "        Se nodo_corrente == obiettivo:\n",
        "            Restituisci \"Soluzione trovata!\"\n",
        "\n",
        "        # Se il nodo corrente non è stato visitato\n",
        "        Se nodo_corrente non è in visitati:\n",
        "            # Aggiungi il nodo corrente ai nodi visitati\n",
        "            Aggiungi(visitati, nodo_corrente)\n",
        "\n",
        "            # Espandi il nodo corrente per generare i nodi figli\n",
        "            nodi_figli = GeneraFigli(nodo_corrente)\n",
        "\n",
        "            # Aggiungi i nodi figli alla frontiera\n",
        "            Per ogni nodo in nodi_figli:\n",
        "                Se nodo non è in visitati e nodo non è nella frontiera:\n",
        "                    Aggiungi(frontiera, nodo)\n",
        "\n",
        "    Restituisci \"Problema senza soluzione\"\n",
        "```\n",
        "\n",
        "Le struttre dati usate per la frontiera sono le seguenti: \n",
        "\n",
        "- **Stack**: L'ultimo nodo inserito è il primo estratto (LIFO = Last In First Out) --\\> Algoritmo Depth-First Search (DFS). \n",
        "- **Queue**: Il primo nodo inserito è il primo estratto (FIFO = First In First Out) --\\> Algoritmo Breadth-First Search (BFS). \n",
        "- **Priority Queue**: Il nodo con il valore di priorità più alto è il primo estratto --\\> Usato per Greedy Best-First Search e A\\*, dove la priorità è determinata da funzioni di costo o euristiche.\n",
        "\n",
        "L'implementazione in Python di questo algoritmo riportata qui di seguito discende immediatamente dalla implementazione in pseudo-python vista qui sopra. Si noti che la funzione accetta in ingresso un grafo descritto da un dizionarip, uno stato iniziale, ovvero il nome del nodo inziale nel dizionario, uno stato obiettivo, ovvero il nome del nodo da raggiungere nel dizionario, e la strategia non informata che vogliamo usare, DFS o BFS."
      ]
    },
    {
      "cell_type": "code",
      "execution_count": null,
      "metadata": {},
      "outputs": [],
      "source": [
        "from collections import deque\n",
        "\n",
        "def ricerca_generale(grafo, stato_iniziale, obiettivo, strategia=\"BFS\"):\n",
        "    \"\"\"\n",
        "    Algoritmo generale di ricerca.\n",
        "\n",
        "    :param grafo: Dizionario che rappresenta il grafo come lista di adiacenza\n",
        "    :param stato_iniziale: Nodo di partenza\n",
        "    :param obiettivo: Nodo obiettivo\n",
        "    :param strategia: Strategia di ricerca, \"BFS\" (coda) o \"DFS\" (stack)\n",
        "    :return: Tupla contenente (percorso dal nodo iniziale al nodo obiettivo, lista dei nodi visitati) o (messaggio di fallimento, lista dei nodi visitati)\n",
        "    \"\"\"\n",
        "    if strategia == \"BFS\":\n",
        "        frontiera = deque([[stato_iniziale]])  # Coda per BFS\n",
        "    elif strategia == \"DFS\":\n",
        "        frontiera = [[stato_iniziale]]  # Stack per DFS\n",
        "    else:\n",
        "        raise ValueError(\"Strategia non supportata. Usa 'BFS' o 'DFS'.\")\n",
        "\n",
        "    visitati = set()  # Insieme dei nodi visitati\n",
        "    nodi_visitati = []  # Lista per memorizzare l'ordine dei nodi visitati\n",
        "\n",
        "    while frontiera:\n",
        "        # Rimuovi un percorso dalla frontiera (FIFO per BFS, LIFO per DFS)\n",
        "        if strategia == \"BFS\":\n",
        "            percorso_corrente = frontiera.popleft()\n",
        "        else:  # strategia == \"DFS\"\n",
        "            percorso_corrente = frontiera.pop()\n",
        "\n",
        "        nodo_corrente = percorso_corrente[-1]  # Ultimo nodo nel percorso\n",
        "\n",
        "        # Controlla se abbiamo raggiunto l'obiettivo\n",
        "        if nodo_corrente == obiettivo:\n",
        "            return percorso_corrente, nodi_visitati  # Restituisci il percorso completo e i nodi visitati\n",
        "\n",
        "        # Se il nodo non è stato visitato\n",
        "        if nodo_corrente not in visitati:\n",
        "            visitati.add(nodo_corrente)  # Segna il nodo come visitato\n",
        "            nodi_visitati.append(nodo_corrente)  # Aggiunge il nodo alla lista dei visitati\n",
        "\n",
        "            # Aggiungi i vicini alla frontiera\n",
        "            for vicino in grafo.get(nodo_corrente, []):\n",
        "                if vicino not in visitati:\n",
        "                    nuovo_percorso = percorso_corrente + [vicino]\n",
        "                    frontiera.append(nuovo_percorso)\n",
        "\n",
        "    return \"Problema senza soluzione\", nodi_visitati"
      ]
    },
    {
      "cell_type": "markdown",
      "metadata": {},
      "source": [
        "Applichiamo la funzione di ricerca generale al seguente grafo:\n",
        "\n",
        "``` {mermaid}\n",
        "%%| label: fig-simple\n",
        "%%| fig-cap: \"Esempio di grafo per la funzione di ricerca generale non informata\" \n",
        "graph TD\n",
        "    A --- B\n",
        "    A --- C\n",
        "    A --- D\n",
        "    B --- E\n",
        "    E --- F\n",
        "    C --- G\n",
        "    C --- H\n",
        "    G --- I\n",
        "    D --- L\n",
        "```\n",
        "\n",
        "Tradotto in Python, il grafo è rappresentato da un dizionario dove le chiavi sono i nodi e i valori sono le liste di nodi adiacenti."
      ]
    },
    {
      "cell_type": "code",
      "execution_count": null,
      "metadata": {},
      "outputs": [],
      "source": [
        "grafo = {\n",
        "    'A': ['B', 'C', 'D'],\n",
        "    'B': ['E'],\n",
        "    'C': ['G', 'H'],\n",
        "    'D': ['L'],\n",
        "    'E': ['F'],\n",
        "    'G': ['I'],\n",
        "    'H': [],\n",
        "    'I': [],\n",
        "    'F': [],\n",
        "    'L': []\n",
        "}"
      ]
    },
    {
      "cell_type": "markdown",
      "metadata": {},
      "source": [
        "Creiamo una semplice funzione Python per vedere il grafo in output su schermo:"
      ]
    },
    {
      "cell_type": "code",
      "execution_count": null,
      "metadata": {},
      "outputs": [],
      "source": [
        "def stampa_grafo(grafo):\n",
        "    for nodo, vicini in grafo.items():\n",
        "        print(f\"{nodo} -> \", end=\"\")\n",
        "        for vicino in vicini:\n",
        "            print(f\"{vicino}\", end=\" \")\n",
        "        print()  # Nuova linea dopo ogni nodo"
      ]
    },
    {
      "cell_type": "markdown",
      "metadata": {},
      "source": [
        "Proviamo a stampare per verificare di aver caricato il grafo in maniera corretta:"
      ]
    },
    {
      "cell_type": "code",
      "execution_count": null,
      "metadata": {},
      "outputs": [],
      "source": [
        "stampa_grafo(grafo)"
      ]
    },
    {
      "cell_type": "markdown",
      "metadata": {},
      "source": [
        "Adesso proviamo a eseguire la ricerca usando la strategia BFS:"
      ]
    },
    {
      "cell_type": "code",
      "execution_count": null,
      "metadata": {},
      "outputs": [],
      "source": [
        "# Esempi di utilizzo\n",
        "print(\"Ricerca BFS:\")\n",
        "percorso, visitati = ricerca_generale(grafo, \"A\", \"L\", strategia=\"BFS\")\n",
        "print(\"Nodi visitati:\", visitati)\n",
        "print(\"Percorso completo:\", percorso)"
      ]
    },
    {
      "cell_type": "markdown",
      "metadata": {},
      "source": [
        "Proviamo adesso a eseguire la ricerca usando la strategia DFS:"
      ]
    },
    {
      "cell_type": "code",
      "execution_count": null,
      "metadata": {},
      "outputs": [],
      "source": [
        "print(\"\\nRicerca DFS:\")\n",
        "percorso, visitati = ricerca_generale(grafo, \"A\", \"L\", strategia=\"DFS\")\n",
        "print(\"Nodi visitati:\", visitati)\n",
        "print(\"Percorso completo:\", percorso)       "
      ]
    },
    {
      "cell_type": "markdown",
      "metadata": {},
      "source": [
        "Si noti come, in questo caso, la strategia DFS visiti molti più nodi rispetto alla strategia BFS per arrivare allo stesso percorso\n",
        "\n",
        "### Esperimento 2: ricerca non informata del cammino in un labirinto\n",
        "\n",
        "Il caso del labirinto è un caso particolare di problema di ricerca in un grafo. Cominciamo con la definizione di un labirinto in formato testo. Possiamo descrivere un labirinto come una matrice di caratteri, dove i caratteri rappresentano le celle del labirinto. In particolare possiamo usare i seguenti caratteri:\n",
        "\n",
        "-   `#`: Muro\n",
        "-   : Passaggio libero\n",
        "-   `S`: Inizio\n",
        "-   `E`: Fine\n",
        "-   `+`: Percorso trovato\n",
        "-   `-`: celle visitate\n",
        "\n",
        "Un esempio di labirinto è il seguente:\n",
        "\n",
        "```         \n",
        "###                 #########\n",
        "#   ###################   # #\n",
        "# ####                # # # #\n",
        "# ################### # # # #\n",
        "#                     # # # #\n",
        "##################### # # # #\n",
        "#   ##                # # # #\n",
        "# # ## ### ## ######### # # #\n",
        "# #    #   ##E#         # # #\n",
        "# # ## ################ # # #\n",
        "### ##             #### # # #\n",
        "### ############## ## # # # #\n",
        "###             ##    # # # #\n",
        "###### ######## ####### # # #\n",
        "###### ####             #   #\n",
        "S      ######################\n",
        "```\n",
        "\n",
        "Evidentemente, al di fuori della matrice, il labirinto è circondato da un muro. Prima di tutto dobbiamo leggere il labirinto da un file di testo e trasformarlo in un grafo che rappresenta il labirinto. La funzione prende in input il nome di un file che contiene un labirinto, rappresentato come una griglia 2D di caratteri. Ogni carattere rappresenta elementi diversi: '\\#' per i muri, 'S' per il punto di partenza, 'E' per il punto di arrivo e spazi vuoti per i percorsi percorribili. La funzione produce tre risultati: - un dizionario del grafo che mostra come le posizioni del labirinto sono collegate. Il dizionario del grafo usa coppie di coordinate (x,y) come chiavi, con ogni chiave che ha una lista delle coordinate dei vicini raggiungibili. - le coordinate della posizione iniziale - le coordinate della posizione finale.\n",
        "\n",
        "Il funzionamento è il seguente: Per ogni posizione nella griglia del labirinto (i due cicli for uno per le righe e uno per le colonne) se non è un muro, controlla se è il punto di partenza ('S') o di arrivo ('E') e memorizza queste posizioni speciali. Poi, per ogni posizione valida, esamina le quattro possibili direzioni in cui ci si può muovere (su, destra, giù, sinistra) e aggiunge qualsiasi mossa valida alla lista delle connessioni di quella posizione nel grafo.\n",
        "\n",
        "La principale trasformazione dei dati che avviene è la conversione da una rappresentazione a griglia 2D a una struttura a grafo dove ogni posizione è collegata ai suoi vicini accessibili.\n",
        "\n",
        "Per esempio, se il labirinto ha un percorso dove ci si può muovere a destra e in basso dalla posizione (1,1), il grafo includerebbe qualcosa come: {(1,1): \\[(2,1), (1,2)\\]}, mostrando che dalla posizione (1,1) si possono raggiungere le posizioni (2,1) e (1,2)."
      ]
    },
    {
      "cell_type": "code",
      "execution_count": null,
      "metadata": {},
      "outputs": [],
      "source": [
        "def leggi_labirinto(file_path):\n",
        "    \"\"\"\n",
        "    Legge un labirinto da un file ASCII e lo trasforma in un grafo.\n",
        "    :param file_path: nome del file testo (.txt) contenente il labirinto.\n",
        "    :return: Tupla contenente (labirinto, grafo, stato_iniziale, stato_finale.\n",
        "    \"\"\"\n",
        "    with open(file_path, 'r') as file:\n",
        "        labirinto = [list(line.rstrip()) for line in file]\n",
        "\n",
        "    grafo = {}\n",
        "    stato_iniziale = None\n",
        "    stato_finale = None\n",
        "\n",
        "    righe = len(labirinto)\n",
        "    colonne = len(labirinto[0])\n",
        "\n",
        "    for riga in range(righe):\n",
        "        for colonna in range(colonne):\n",
        "            if labirinto[riga][colonna] in (' ', 'S', 'E'):\n",
        "                nodo = (riga, colonna)\n",
        "                grafo[nodo] = []\n",
        "\n",
        "                if labirinto[riga][colonna] == 'S':\n",
        "                    stato_iniziale = nodo\n",
        "                elif labirinto[riga][colonna] == 'E':\n",
        "                    stato_finale = nodo\n",
        "\n",
        "                # Controlla i vicini (su, giù, sinistra, destra)\n",
        "                for dr, dc in [(-1, 0), (1, 0), (0, -1), (0, 1)]:\n",
        "                    vicinino = (riga + dr, colonna + dc)\n",
        "                    if 0 <= vicinino[0] < righe and 0 <= vicinino[1] < colonne and labirinto[vicinino[0]][vicinino[1]] in (' ', 'S', 'E'):\n",
        "                        grafo[nodo].append(vicinino)\n",
        "\n",
        "    return labirinto, grafo, stato_iniziale, stato_finale"
      ]
    },
    {
      "cell_type": "markdown",
      "metadata": {},
      "source": [
        "Adesso ci occorre una funzione che, dato un labirinto e un percorso, stampi il labirinto con il percorso e i nodi visitati."
      ]
    },
    {
      "cell_type": "code",
      "execution_count": null,
      "metadata": {},
      "outputs": [],
      "source": [
        "def stampa_labirinto(labirinto):\n",
        "    \"\"\"Stampa il labirinto in formato ASCII.\"\"\"\n",
        "    for riga in labirinto:\n",
        "        print(''.join(riga))\n",
        "\n",
        "def stampa_labirinto_con_percorso(labirinto, percorso, visitati):\n",
        "    \"\"\"Stampa il labirinto con il percorso e i nodi visitati.\"\"\"\n",
        "    labirinto_modificato = [riga.copy() for riga in labirinto]\n",
        "\n",
        "    for riga, colonna in visitati:\n",
        "        if labirinto_modificato[riga][colonna] not in ('S', 'E'):\n",
        "            labirinto_modificato[riga][colonna] = '-'\n",
        "\n",
        "    for riga, colonna in percorso:\n",
        "        if labirinto_modificato[riga][colonna] not in ('S', 'E'):\n",
        "            labirinto_modificato[riga][colonna] = '+'\n",
        "\n",
        "    stampa_labirinto(labirinto_modificato)"
      ]
    },
    {
      "cell_type": "markdown",
      "metadata": {},
      "source": [
        "Ipotizzando di aver memorizzato il labirinto nel file \"labirinto.txt\" possiamo leggerlo e memorizzarlo in un grafo nel seguente modo:"
      ]
    },
    {
      "cell_type": "code",
      "execution_count": null,
      "metadata": {},
      "outputs": [],
      "source": [
        "labirinto, grafo, stato_iniziale, stato_finale = leggi_labirinto(\"labirinto.txt\")"
      ]
    },
    {
      "cell_type": "markdown",
      "metadata": {},
      "source": [
        "Proviamo a risolvere il labirinto con l'algoritmo DFS:"
      ]
    },
    {
      "cell_type": "code",
      "execution_count": null,
      "metadata": {},
      "outputs": [],
      "source": [
        "percorso, visitati = ricerca_generale(grafo, stato_iniziale, stato_finale, strategia=\"DFS\")\n",
        "\n",
        "if isinstance(percorso, list):\n",
        "    print(\"\\nLabirinto con percorso trovato:\")\n",
        "    stampa_labirinto_con_percorso(labirinto, percorso, visitati)\n",
        "else:\n",
        "    print(percorso)"
      ]
    },
    {
      "cell_type": "markdown",
      "metadata": {},
      "source": [
        "Come possiamo vedere, l'algoritmo DFS ha trovato un percorso, ma non è l'unico possibile. Per trovare il percorso ha visitatoo molti nodi:"
      ]
    },
    {
      "cell_type": "code",
      "execution_count": null,
      "metadata": {},
      "outputs": [],
      "source": [
        "print(f\"Nodi visitati: {len(visitati)}\")"
      ]
    },
    {
      "cell_type": "markdown",
      "metadata": {},
      "source": [
        "Se proviamo a risolvere il labirinto con l'algoritmo BFS otteniamo il seguente risultato:"
      ]
    },
    {
      "cell_type": "code",
      "execution_count": null,
      "metadata": {},
      "outputs": [],
      "source": [
        "percorso, visitati = ricerca_generale(grafo, stato_iniziale, stato_finale, strategia=\"BFS\")\n",
        "\n",
        "if isinstance(percorso, list):\n",
        "    print(\"\\nLabirinto con percorso trovato:\")\n",
        "    stampa_labirinto_con_percorso(labirinto, percorso, visitati)\n",
        "else:\n",
        "    print(percorso)"
      ]
    },
    {
      "cell_type": "markdown",
      "metadata": {},
      "source": [
        "Per trovare il percorso ha visitatoo molti nodi:"
      ]
    },
    {
      "cell_type": "code",
      "execution_count": null,
      "metadata": {},
      "outputs": [],
      "source": [
        "print(f\"Nodi visitati: {len(visitati)}\")"
      ]
    },
    {
      "cell_type": "markdown",
      "metadata": {},
      "source": [
        "Come visto nel paragrafo [-@sec-algoritmi-di-ricerca-non-informati] anche in questo caso l'algoritmo BFS trova il percorso più breve visitando un minor numero di nodi rispetto al BFS.\n",
        "\n",
        "### Esperimento 3: Algoritmi di ricerca informata {#sec-algoritmi-di-ricerca-informati-inpython}\n",
        "\n",
        "Gli algoritmi di ricerca informata sono una categoria di algoritmi di ricerca che utilizzano informazioni aggiuntive oltre alla struttura del problema per guidare la ricerca verso una soluzione. Queste informazioni aggiuntive sono spesso chiamate **euristiche**. Vediamo l'esempio proposto nel testo:\n",
        "\n",
        "\n",
        "``` {mermaid}\n",
        "graph TD\n",
        "    A(Castelnuovo di Porto):::start --- |Flaminia| B(Via Flaminia+GRA)\n",
        "    A --- |Tiberina| B\n",
        "    A --- |Salaria| D(GRA-Salaria)\n",
        "    A --- |E35| C(E35+GRA)\n",
        "    B --- |GRA| D\n",
        "    C --- |GRA| D\n",
        "    D --- |Salaria| E(Viale Pola):::stop\n",
        "classDef start fill:#f9f,stroke:#333,stroke-width:2px;\n",
        "classDef stop fill:#f9f,stroke:#333,stroke-width:2px;\n",
        "classDef visited fill:#1f1,stroke:#333,stroke-width:2px;\n",
        "```\n",
        "\n",
        "**greedy best-first search**\n",
        "\n",
        "Il grafo, come visto nel paragrafo precedente, può essere rappresentato da un dizionario Python:"
      ]
    },
    {
      "cell_type": "code",
      "execution_count": null,
      "metadata": {},
      "outputs": [],
      "source": [
        "# Definizione del grafo come lista di adiacenza\n",
        "grafo = {\n",
        "    \"A\": [(\"B\", \"Flaminia\"), (\"C\", \"E35\"), (\"D\", \"Salaria\")],\n",
        "    \"B\": [(\"D\", \"GRA\")],\n",
        "    \"C\": [(\"D\", \"GRA\")],\n",
        "    \"D\": [(\"E\", \"Salaria\")],\n",
        "    \"E\": []\n",
        "}"
      ]
    },
    {
      "cell_type": "markdown",
      "metadata": {},
      "source": [
        "Mentre l'euristica è rappresentata da un dizionario Python con i nodi come chiavi e i valori euristici, distanza tra il nodo e l'obiettivo, come valori:"
      ]
    },
    {
      "cell_type": "code",
      "execution_count": null,
      "metadata": {},
      "outputs": [],
      "source": [
        "# Definizione dei valori euristici\n",
        "euristica = {\n",
        "    \"A\": 23,\n",
        "    \"B\": 7,\n",
        "    \"C\": 7,\n",
        "    \"D\": 8,\n",
        "    \"E\": 0\n",
        "}"
      ]
    },
    {
      "cell_type": "markdown",
      "metadata": {},
      "source": [
        "La funzione per l'implementazione dell'algoritmo **greedy best-first search** è facilmente implementabile a partire dalla funzione di ricerca generale vista nel paragrafo modificando la frontiera in una coda a priorità (min-heap) che memorizza i nodi in base al valore di euristica. Inoltre, la funzione di valutazione della frontiera viene modificata per estrarre il nodo con il valore di euristica più basso. La libreria heapq di Python può essere utilizzata per implementare una coda a priorità."
      ]
    },
    {
      "cell_type": "code",
      "execution_count": null,
      "metadata": {},
      "outputs": [],
      "source": [
        "from heapq import heappush, heappop\n",
        "\n",
        "def greedy_best_first_search(grafo, euristica, start, goal):\n",
        "    \"\"\"\n",
        "    Esegue la Ricerca Greedy Best-First sul grafo fornito.\n",
        "\n",
        "    Parametri:\n",
        "        grafo (dict): Lista di adiacenza che rappresenta il grafo.\n",
        "        euristica (dict): Valori euristici per ogni nodo.\n",
        "        start (str): Nodo iniziale.\n",
        "        goal (str): Nodo obiettivo.\n",
        "\n",
        "    Restituisce:\n",
        "        list: Percorso dal nodo iniziale al nodo obiettivo.\n",
        "    \"\"\"\n",
        "    # Coda a priorità (min-heap) per memorizzare (valore euristico, nodo, percorso)\n",
        "    coda_prioritaria = []\n",
        "    heappush(coda_prioritaria, (euristica[start], start, [start]))\n",
        "\n",
        "    visitati = set()  # Per tenere traccia dei nodi visitati\n",
        "\n",
        "    while coda_prioritaria:\n",
        "        # Estrai il nodo con il valore euristico più piccolo\n",
        "        valore_h, nodo_corrente, percorso = heappop(coda_prioritaria)\n",
        "\n",
        "        # Se l'obiettivo è raggiunto, restituisci il percorso\n",
        "        if nodo_corrente == goal:\n",
        "            return percorso\n",
        "\n",
        "        # Se il nodo è già stato visitato, saltalo\n",
        "        if nodo_corrente in visitati:\n",
        "            continue\n",
        "\n",
        "        # Segna il nodo corrente come visitato\n",
        "        visitati.add(nodo_corrente)\n",
        "\n",
        "        # Esplora i vicini\n",
        "        for vicino, _ in grafo.get(nodo_corrente, []):\n",
        "            if vicino not in visitati:\n",
        "                heappush(coda_prioritaria, (euristica[vicino], vicino, percorso + [vicino]))\n",
        "\n",
        "    # Restituisce una lista vuota se non è stato trovato alcun percorso\n",
        "    return []"
      ]
    },
    {
      "cell_type": "markdown",
      "metadata": {},
      "source": [
        "Proviamo a trovare il percorso più breve trale località Castelnuovo di Porto e Viale Pola, ovvero tra i nodi A e E:"
      ]
    },
    {
      "cell_type": "code",
      "execution_count": null,
      "metadata": {},
      "outputs": [],
      "source": [
        "# Esecuzione dell'algoritmo\n",
        "nodo_iniziale = \"A\"\n",
        "nodo_obiettivo = \"E\"\n",
        "percorso = greedy_best_first_search(grafo, euristica, nodo_iniziale, nodo_obiettivo)\n",
        "\n",
        "print(\"Percorso da\", nodo_iniziale, \"a\", nodo_obiettivo, \":\", percorso)"
      ]
    },
    {
      "cell_type": "markdown",
      "metadata": {},
      "source": [
        "Quindi il percorso più breve tra Castelnuovo di Porto e Viale Pola è: \\['A', 'B', 'D', 'E'\\]\n",
        "\n",
        "Cioè Castelnuovo di Porto -\\> Via Flaminia -\\> GRA -\\> Salaria -\\> Viale Pola.\n",
        "\n",
        "Si invita il lettore a provare a modificare l'euristica per vedere l'effetto nella ricerca del percorso più breve.\n",
        "\n",
        "**Algoritmo A\\***\n",
        "\n",
        "L'algoritmo A\\* è un algoritmo di ricerca informata che combina l'euristica con la ricerca di costo minimo.\n",
        "\n",
        "Usiamo, come esempio, lo stesso grafo del paragrago del testo sugli algoritmi di ricerca informati e l'euristica definita nel paragrafo precedente.\n",
        "\n",
        "``` {mermaid}\n",
        "graph TD\n",
        "    A(Castelnuovo di Porto):::start --- |Flaminia, 18| B(Via Flaminia+GRA)\n",
        "    A --- |Tiberina, 23| B\n",
        "    A --- |Salaria, 27| D(GRA-Salaria)\n",
        "    A --- |E35, 21| C(E35+GRA)\n",
        "    B --- |GRA, 2| D\n",
        "    C --- |GRA, 1| D\n",
        "    D --- |Salaria, 9| E(Viale Pola):::stop\n",
        "    classDef start fill:#f9f,stroke:#333,stroke-width:2px;\n",
        "    classDef stop fill:#f9f,stroke:#333,stroke-width:2px;\n",
        "    classDef visited fill:#1f1,stroke:#333,stroke-width:2px;\n",
        "```\n",
        "\n",
        "Come nell'esperimento precedente, il grafo può essere rappresentato da un dizionario Python. Solo che in questo caso la lista delle adiacenze, oltre ai nomi dei nodi, contiene anche il costo del percorso tra i nodi:"
      ]
    },
    {
      "cell_type": "code",
      "execution_count": null,
      "metadata": {},
      "outputs": [],
      "source": [
        "# Definizione del grafo come lista di adiacenza con costi\n",
        "grafo = {\n",
        "    \"A\": [(\"B\", 18), (\"C\", 21), (\"D\", 27)],\n",
        "    \"B\": [(\"D\", 2)],\n",
        "    \"C\": [(\"D\", 1)],\n",
        "    \"D\": [(\"E\", 9)],\n",
        "    \"E\": []\n",
        "}"
      ]
    },
    {
      "cell_type": "markdown",
      "metadata": {},
      "source": [
        "Mentre l'implementazione dell'euristica è la stessa del paragrafo precedente."
      ]
    },
    {
      "cell_type": "code",
      "execution_count": null,
      "metadata": {},
      "outputs": [],
      "source": [
        "# Definizione dei valori euristici\n",
        "euristica = {\n",
        "    \"A\": 23,\n",
        "    \"B\": 7,\n",
        "    \"C\": 7,\n",
        "    \"D\": 8,\n",
        "    \"E\": 0\n",
        "}"
      ]
    },
    {
      "cell_type": "markdown",
      "metadata": {},
      "source": [
        "Una possibile implementazione dell'algoritmo A\\* basata sull'algoritmo generale di ricerca con l'aggiunta di una coda a priorità basata sulla somma del costo del percorso e dell'euristica, può essere la seguente:"
      ]
    },
    {
      "cell_type": "code",
      "execution_count": null,
      "metadata": {},
      "outputs": [],
      "source": [
        "from heapq import heappush, heappop\n",
        "\n",
        "def a_star_search(grafo, euristica, start, goal):\n",
        "    \"\"\"\n",
        "    Esegue l'algoritmo A* sul grafo fornito.\n",
        "\n",
        "    Parametri:\n",
        "        grafo (dict): Lista di adiacenza che rappresenta il grafo con costi.\n",
        "        euristica (dict): Valori euristici per ogni nodo.\n",
        "        start (str): Nodo iniziale.\n",
        "        goal (str): Nodo obiettivo.\n",
        "\n",
        "    Restituisce:\n",
        "        list: Percorso dal nodo iniziale al nodo obiettivo.\n",
        "    \"\"\"\n",
        "    # Coda a priorità (min-heap) per memorizzare (f(n), g(n), nodo, percorso)\n",
        "    coda_prioritaria = []\n",
        "    heappush(coda_prioritaria, (euristica[start], 0, start, [start]))\n",
        "\n",
        "    visitati = set()  # Per tenere traccia dei nodi visitati\n",
        "\n",
        "    while coda_prioritaria:\n",
        "        # Estrai il nodo con il valore f(n) più piccolo\n",
        "        _, costo_g, nodo_corrente, percorso = heappop(coda_prioritaria)\n",
        "\n",
        "        # Se l'obiettivo è raggiunto, restituisci il percorso\n",
        "        if nodo_corrente == goal:\n",
        "            return percorso\n",
        "\n",
        "        # Se il nodo è già stato visitato, saltalo\n",
        "        if nodo_corrente in visitati:\n",
        "            continue\n",
        "\n",
        "        # Segna il nodo corrente come visitato\n",
        "        visitati.add(nodo_corrente)\n",
        "\n",
        "        # Esplora i vicini\n",
        "        for vicino, costo in grafo.get(nodo_corrente, []):\n",
        "            if vicino not in visitati:\n",
        "                nuovo_costo_g = costo_g + costo\n",
        "                valore_f = nuovo_costo_g + euristica[vicino]\n",
        "                heappush(coda_prioritaria, (valore_f, nuovo_costo_g, vicino, percorso + [vicino]))\n",
        "\n",
        "    # Restituisce una lista vuota se non è stato trovato alcun percorso\n",
        "    return []"
      ]
    },
    {
      "cell_type": "markdown",
      "metadata": {},
      "source": [
        "Proviamo a trovare il percorso più breve trale località Castelnuovo di Porto e Viale Pola, ovvero tra i nodi A e E:"
      ]
    },
    {
      "cell_type": "code",
      "execution_count": null,
      "metadata": {},
      "outputs": [],
      "source": [
        "# Esecuzione dell'algoritmo\n",
        "nodo_iniziale = \"A\"\n",
        "nodo_obiettivo = \"E\"\n",
        "percorso = a_star_search(grafo, euristica, nodo_iniziale, nodo_obiettivo)\n",
        "\n",
        "print(\"Percorso da\", nodo_iniziale, \"a\", nodo_obiettivo, \":\", percorso)"
      ]
    },
    {
      "cell_type": "markdown",
      "metadata": {},
      "source": [
        "Quindi il percorso più breve tra Castelnuovo di Porto e Viale Pola è: \\['A', 'B', 'D', 'E'\\] Cioè Castelnuovo di Porto -\\> Via Flaminia -\\> GRA -\\> Salaria -\\> Viale Pola. Quindi l'algoritmo A\\* ha trovato lo stesso percorso trovato con l'algoritmo di ricerca informata greedy best first search. Questo perche la funzione di costo associato a ogni arco è esattamente l distanza stradale tra i nodi. Si invita il lettore a provare a modificare la funzione di costo per vedere l'effetto nella ricerca del percorso più breve. Ad esempio si potrebbe modificare il costo tra i nodi A e B e tra A e C impostandolo a 50 per simulare un cantiere su Flaminia e Tiberina che rallenta di molto il traffico e vedere quale percorso suggerisce A\\* in questo caso."
      ]
    }
  ],
  "metadata": {
    "kernelspec": {
      "display_name": "Python 3 (ipykernel)",
      "language": "python",
      "name": "python3",
      "path": "C:\\Users\\lcapitanio\\AppData\\Local\\Packages\\PythonSoftwareFoundation.Python.3.12_qbz5n2kfra8p0\\LocalCache\\local-packages\\share\\jupyter\\kernels\\python3"
    }
  },
  "nbformat": 4,
  "nbformat_minor": 4
}
