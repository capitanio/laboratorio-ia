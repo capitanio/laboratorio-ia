{
 "cells": [
  {
   "cell_type": "markdown",
   "metadata": {},
   "source": [
    "# Rete di Nayes Indagine criminale\n",
    "Scriviamo il codice Python necessario per creare un modello di Rete Bayesiana per analizzare la probabilità di colpevolezza di un sospetto in un'indagine criminale. Il modello considera tre elementi di prova: la presenza di un'arma (Arma), un movente (Movente) e un alibi (Alibi), e come questi influenzano la probabilità di colpevolezza (Colpevolezza).\n",
    "\n",
    "Il codice non richiederà input diretti dall'utente. Invece, definisce la struttura della Rete Bayesiana e imposta le tabelle di probabilità per ciascun fattore basate su valori predefiniti che dovrebbero essere estrapolati da statistiche sulle indagini criminali.\n",
    "\n",
    "***Descrizione del codice***\n",
    "\n",
    "L'output di questo codice è:\n",
    "- un modello di Rete Bayesiana verificato;\n",
    "- la stampa del modello;\n",
    "- la stampa delle Distribuzioni di Probabilità Condizionata (CPD) per ogni variabile nella rete;\n",
    "- il grafo della rete Bayesiana.\n",
    "\n",
    "Inizialmente, definiamo la struttura della Rete Bayesiana, mostrando come i fattori di prova (Arma, Movente, Alibi) influenzano la colpevolezza (Colpevolezza).\n",
    "Quindi, definiamo le tabelle di probabilità per ciascun fattore. Ad esempio, la probabilità che un'arma sia presente sia presente sul luogo del delitto la poniamo pari al 70% (0.7) e la sua assenza al 30% (0.3). Più complessa è la definizione della tabella di probabilità per la colpevolezza, che considera tutte le possibili combinazioni dei fattori di prova.\n",
    "Tutte queste tabelle sono aggiunte al modello di Rete Bayesiana.\n",
    "Infine, verifichiamo se il modello è definito correttamente e stampiamo tutte le distribuzioni di probabilità.\n",
    "\n",
    "La logica chiave in questo codice è come esso rappresenta le relazioni tra diversi elementi di prova e la colpevolezza. Ad esempio, la presenza di un'arma, un movente e la mancanza di un alibi aumenterebbero la probabilità di colpevolezza, mentre la loro assenza la diminuirebbe. Questo è riflesso nella tabella di probabilità per 'Colpevolezza', che considera tutte le possibili combinazioni di prove:\n",
    "\n",
    "| Arma | Motive | Alibi | P(Non Colpevole) | P(Colpevole) |\n",
    "|------|--------|-------|------------------|--------------|\n",
    "|  0   |   0    |   0   |       0.1        |     0.9      |\n",
    "|  0   |   0    |   1   |       0.2        |     0.8      |\n",
    "|  0   |   1    |   0   |       0.3        |     0.7      |\n",
    "|  0   |   1    |   1   |       0.4        |     0.6      |\n",
    "|  1   |   0    |   0   |       0.5        |     0.5      |\n",
    "|  1   |   0    |   1   |       0.6        |     0.4      |\n",
    "|  1   |   1    |   0   |       0.7        |     0.3      |\n",
    "|  1   |   1    |   1   |       0.8        |     0.2      |\n",
    "\n",
    "In questa tabella:\n",
    "\n",
    "0 rappresenta l'assenza (di arma, movente o alibi)\n",
    "1 rappresenta la presenza\n",
    "Le ultime due colonne mostrano le probabilità di non colpevolezza e colpevolezza per ogni combinazione di evidenze\n",
    "\n",
    "Questa Rete Bayesiana può essere utilizzata per calcolare la probabilità di colpevolezza dato uno scenario di prove, aiutando gli investigatori a quantificare e ragionare sull'incertezza nei casi criminali.\n"
   ]
  },
  {
   "cell_type": "code",
   "execution_count": null,
   "metadata": {},
   "outputs": [],
   "source": [
    "from pgmpy.models import BayesianNetwork\n",
    "from pgmpy.factors.discrete import TabularCPD\n",
    "\n",
    "# Definizione del modello\n",
    "model = BayesianNetwork([('Arma', 'Colpevolezza'),\n",
    "                       ('Movente', 'Colpevolezza'),\n",
    "                       ('Alibi', 'Colpevolezza')])\n",
    "\n",
    "# Definizione delle probabilità condizionate\n",
    "cpd_arma = TabularCPD(variable='Arma', variable_card=2,\n",
    "                      values=[[0.7], [0.3]])\n",
    "cpd_Movente = TabularCPD(variable='Movente', variable_card=2,\n",
    "                        values=[[0.6], [0.4]])\n",
    "cpd_alibi = TabularCPD(variable='Alibi', variable_card=2,\n",
    "                       values=[[0.5], [0.5]])\n",
    "cpd_colpevolezza = TabularCPD(variable='Colpevolezza', variable_card=2,\n",
    "                              values=[[0.9, 0.7, 0.6, 0.4, 0.6, 0.4, 0.3, 0.1],\n",
    "                                      [0.1, 0.3, 0.4, 0.6, 0.4, 0.6, 0.7, 0.9]],\n",
    "                              evidence=['Arma', 'Movente', 'Alibi'],\n",
    "                              evidence_card=[2, 2, 2])\n",
    "# cpd_colpevolezza = TabularCPD(variable='Colpevolezza', variable_card=2,\n",
    "#                               values=[[0.1, 0.2, 0.3, 0.4, 0.5, 0.6, 0.7, 0.8],\n",
    "#                                       [0.9, 0.8, 0.7, 0.6, 0.5, 0.4, 0.3, 0.2]],\n",
    "#                               evidence=['Arma', 'Movente', 'Alibi'],\n",
    "#                               evidence_card=[2, 2, 2])\n",
    "\n",
    "# Aggiunta delle probabilità condizionate al modello\n",
    "model.add_cpds(cpd_arma, cpd_Movente, cpd_alibi, cpd_colpevolezza)\n",
    "\n",
    "# Verifica del modello\n",
    "print(\"Il modello è corretto: \", model.check_model())\n",
    "\n",
    "# Stampa del modello\n",
    "for cpd in model.get_cpds():\n",
    "    print(\"CPD di {variable}:\".format(variable=cpd.variable))\n",
    "    print(cpd)"
   ]
  },
  {
   "cell_type": "markdown",
   "metadata": {},
   "source": [
    "Eseguendo la cella qui sotto possiamo vedere il grafo della rete creata:"
   ]
  },
  {
   "cell_type": "code",
   "execution_count": null,
   "metadata": {},
   "outputs": [],
   "source": [
    "import networkx as nx\n",
    "import matplotlib.pyplot as plt\n",
    "\n",
    "# Assumendo che 'model' sia il tuo BayesianNetwork già definito\n",
    "G = nx.DiGraph()\n",
    "G.add_edges_from(model.edges())\n",
    "\n",
    "pos = nx.spring_layout(G)\n",
    "nx.draw(G, pos, with_labels=True, node_color='lightblue',\n",
    "        node_size=3000, arrowsize=20, font_size=12, font_weight='bold')\n",
    "\n",
    "plt.title(\"Rete di Bayes per l'Analisi della Colpevolezza\")\n",
    "plt.axis('off')\n",
    "plt.show()"
   ]
  },
  {
   "cell_type": "markdown",
   "metadata": {},
   "source": [
    "Infine, una volta costruita la rete di Bayes possiamo interrogarla per avere una stima della probabilità di un determinato evento.\n",
    "Qual è la probabiltà che un indagato senza alibi, senza movente e in assenza di arma del delitto sia colpevole?"
   ]
  },
  {
   "cell_type": "code",
   "execution_count": null,
   "metadata": {},
   "outputs": [],
   "source": [
    "from pgmpy.inference import VariableElimination\n",
    "\n",
    "# Creiamo un oggetto per l'inferenza\n",
    "inference = VariableElimination(model)\n",
    "\n",
    "# Definiamo l'evidenza per la situazione descritta\n",
    "evidence = {\n",
    "    'Alibi': 0,  # 0 rappresenta l'assenza di alibi\n",
    "    'Movente': 0, # 0 rappresenta l'assenza di motivo\n",
    "    'Arma': 0    # 0 rappresenta che l'arma non è stata trovata\n",
    "}\n",
    "\n",
    "# Calcoliamo la probabilità di colpevolezza dato l'evidenza\n",
    "result = inference.query(['Colpevolezza'], evidence=evidence)\n",
    "\n",
    "# Stampiamo il risultato\n",
    "print(\"Probabilità di colpevolezza:\")\n",
    "print(result.values)"
   ]
  }
 ],
 "metadata": {
  "language_info": {
   "name": "python"
  }
 },
 "nbformat": 4,
 "nbformat_minor": 2
}
