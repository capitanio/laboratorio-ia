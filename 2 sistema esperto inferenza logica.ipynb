{
 "cells": [
  {
   "cell_type": "markdown",
   "id": "1e7bd499",
   "metadata": {},
   "source": [
    "### Semplice Sistema Esperto in ambito penale\n",
    "\n",
    "In questo paragrafo, useremo la libreria [**SymPy**](https://www.sympy.org/en/index.html) in Python per creare un semplice sistema esperto basato sull'inferenza logica nell'ambito del diritto penale. Questo sistema aiuterà a determinare se determinati comportamenti costituiscono un reato, in base ai fatti noti e alle norme applicabili.\n",
    "Si noti che la libreria **SymPy** è stata sviluppata per consentire il calcolo simbolico in Python. In questo caso useremo le funzionalità di calcolo simbolico per la rappresentazione della conoscenza, usando le funzionalità di calcolo logico, e per l'inferenza logica.\n"
   ]
  },
  {
   "cell_type": "markdown",
   "id": "bfd9a743",
   "metadata": {},
   "source": [
    "#### Introduzione\n",
    "\n",
    "Il diritto penale si basa su norme che definiscono quali comportamenti sono considerati reati e quali elementi devono essere presenti affinché un'azione sia punibile. Un sistema esperto in questo contesto può aiutare a:\n",
    "\n",
    "- Valutare se un'azione specifica costituisce un reato.\n",
    "- Identificare gli elementi costitutivi del reato.\n",
    "- Fornire una base logica per decisioni legali.\n",
    "\n",
    "Utilizzeremo SymPy per modellare proposizioni logiche, regole legali e per effettuare inferenze.\n",
    "\n",
    "---"
   ]
  },
  {
   "cell_type": "markdown",
   "id": "9dfca9dc",
   "metadata": {},
   "source": [
    "#### Installazione di SymPy\n",
    "\n",
    "Assicurati di avere SymPy installato:\n",
    "\n",
    "```bash\n",
    "pip install sympy\n",
    "```\n",
    "\n",
    "Se stai utilizzando questo notebook in un ambiente in cui SymPy non è installato, esegui la seguente cella:"
   ]
  },
  {
   "cell_type": "code",
   "execution_count": null,
   "id": "99aa493f",
   "metadata": {},
   "outputs": [],
   "source": [
    "!pip install sympy"
   ]
  },
  {
   "cell_type": "markdown",
   "id": "8e64977d",
   "metadata": {},
   "source": [
    "#### Concetti di Base nel Diritto Penale\n",
    "\n",
    "Prima di iniziare, definiamo alcuni concetti chiave:\n",
    "\n",
    "- **Fatti**: Eventi o azioni specifiche accadute.\n",
    "- **Reati**: Comportamenti definiti come illeciti dalla legge penale.\n",
    "- **Elementi Costitutivi del Reato**: Condizioni che devono essere soddisfatte perché un comportamento sia considerato un reato (ad esempio, azione, intenzione, nesso causale).\n",
    "- **Regole Legali**: Norme che stabiliscono le condizioni in cui un comportamento è punibile.\n",
    "\n",
    "---"
   ]
  },
  {
   "cell_type": "markdown",
   "id": "deb3a212",
   "metadata": {},
   "source": [
    "#### Modellazione con SymPy\n",
    "\n",
    "**Passo 1: Importare i Moduli Necessari**\n",
    "\n",
    "Importiamo i moduli necessari da SymPy per lavorare con la logica proposizionale."
   ]
  },
  {
   "cell_type": "code",
   "execution_count": null,
   "id": "31cb1ce3",
   "metadata": {},
   "outputs": [],
   "source": [
    "from sympy import symbols\n",
    "from sympy.logic.boolalg import And, Or, Not, Implies, Equivalent\n",
    "from sympy.logic.inference import satisfiable"
   ]
  },
  {
   "cell_type": "markdown",
   "id": "23000d8e",
   "metadata": {},
   "source": [
    "**Passo 2: Definire le Proposizioni Logiche**\n",
    "\n",
    "Definiamo le variabili che rappresentano i fatti e gli elementi costitutivi del reato."
   ]
  },
  {
   "cell_type": "code",
   "execution_count": null,
   "id": "be60fb66",
   "metadata": {},
   "outputs": [],
   "source": [
    "# Fatti\n",
    "Azione, Intenzione, NessoCausale = symbols('Azione Intenzione NessoCausale')\n",
    "\n",
    "# Reato\n",
    "Omicidio = symbols('Omicidio')"
   ]
  },
  {
   "cell_type": "markdown",
   "id": "52e91777",
   "metadata": {},
   "source": [
    "**Passo 3: Definire le Regole Legali**\n",
    "\n",
    "Ad esempio, secondo il codice penale, l'omicidio richiede:\n",
    "\n",
    "- **Azione**: Causare la morte di una persona.\n",
    "- **Intenzione**: Volontà di causare la morte (dolo).\n",
    "- **Nesso Causale**: La morte è conseguenza dell'azione.\n",
    "\n",
    "Definiamo la regola:"
   ]
  },
  {
   "cell_type": "code",
   "execution_count": null,
   "id": "94cf6338",
   "metadata": {},
   "outputs": [],
   "source": [
    "# Regola: Se c'è Azione, Intenzione e Nesso Causale, allora si configura l'Omicidio\n",
    "regola_omicidio = Implies(And(Azione, Intenzione, NessoCausale), Omicidio)"
   ]
  },
  {
   "cell_type": "markdown",
   "id": "35ede12c",
   "metadata": {},
   "source": [
    "**Passo 4: Definire i Fatti Noti**\n",
    "\n",
    "Supponiamo di avere i seguenti fatti:\n",
    "\n",
    "- Una persona ha compiuto un'azione che ha causato la morte di un'altra.\n",
    "- Aveva l'intenzione di causare la morte.\n",
    "- Esiste un nesso causale tra l'azione e la morte."
   ]
  },
  {
   "cell_type": "code",
   "execution_count": null,
   "id": "8c13f782",
   "metadata": {},
   "outputs": [],
   "source": [
    "# Fatti noti\n",
    "fatto1 = Azione  # L'azione di causare la morte\n",
    "fatto2 = Intenzione  # Intenzione di causare la morte\n",
    "fatto3 = NessoCausale  # La morte è conseguenza dell'azione"
   ]
  },
  {
   "cell_type": "markdown",
   "id": "53852b3b",
   "metadata": {},
   "source": [
    "**Passo 5: Creare la Base di Conoscenza**\n",
    "\n",
    "Combiniamo fatti e regole:"
   ]
  },
  {
   "cell_type": "code",
   "execution_count": null,
   "id": "5decf7f5",
   "metadata": {},
   "outputs": [],
   "source": [
    "# Base di conoscenza\n",
    "base_conoscenza = And(fatto1, fatto2, fatto3, regola_omicidio)"
   ]
  },
  {
   "cell_type": "markdown",
   "id": "315d2868",
   "metadata": {},
   "source": [
    "**Passo 6: Inferenza Logica**\n",
    "\n",
    "Verifichiamo se, sulla base dei fatti e delle regole, possiamo concludere che si tratta di omicidio."
   ]
  },
  {
   "cell_type": "code",
   "execution_count": null,
   "id": "0307d965",
   "metadata": {},
   "outputs": [
    {
     "name": "stdout",
     "output_type": "stream",
     "text": [
      "Si configura il reato di omicidio.\n"
     ]
    }
   ],
   "source": [
    "# Verifichiamo se Omicidio è deducibile\n",
    "ipotesi = And(base_conoscenza, Not(Omicidio))\n",
    "risultato = satisfiable(ipotesi)\n",
    "\n",
    "if not risultato:\n",
    "    print(\"Si configura il reato di omicidio.\")\n",
    "else:\n",
    "    print(\"Non possiamo concludere che si tratti di omicidio.\")"
   ]
  },
  {
   "cell_type": "markdown",
   "id": "454fd5ca",
   "metadata": {},
   "source": [
    "#### **Output Atteso:**\n",
    "\n",
    "```\n",
    "Si configura il reato di omicidio.\n",
    "```"
   ]
  },
  {
   "cell_type": "markdown",
   "id": "a4e7c83d",
   "metadata": {},
   "source": [
    "#### Espansione del Sistema\n",
    "\n",
    "**Caso con Mancanza di Intenzione**\n",
    "\n",
    "Supponiamo che l'intenzione non sia presente (ad esempio, si tratta di omicidio colposo)."
   ]
  },
  {
   "cell_type": "code",
   "execution_count": null,
   "id": "1f67a829",
   "metadata": {},
   "outputs": [],
   "source": [
    "# Fatti noti senza Intenzione\n",
    "fatto1 = Azione\n",
    "fatto2 = Not(Intenzione)  # Mancanza di intenzione\n",
    "fatto3 = NessoCausale\n",
    "\n",
    "# Base di conoscenza aggiornata\n",
    "base_conoscenza = And(fatto1, fatto2, fatto3, regola_omicidio)"
   ]
  },
  {
   "cell_type": "markdown",
   "id": "6347e3d6",
   "metadata": {},
   "source": [
    "**Inferenza per Omicidio**"
   ]
  },
  {
   "cell_type": "code",
   "execution_count": null,
   "id": "674b2829",
   "metadata": {},
   "outputs": [
    {
     "name": "stdout",
     "output_type": "stream",
     "text": [
      "Non possiamo concludere che si tratti di omicidio.\n"
     ]
    }
   ],
   "source": [
    "# Inferenza\n",
    "ipotesi = And(base_conoscenza, Not(Omicidio))\n",
    "risultato = satisfiable(ipotesi)\n",
    "\n",
    "if not risultato:\n",
    "    print(\"Si configura il reato di omicidio.\")\n",
    "else:\n",
    "    print(\"Non possiamo concludere che si tratti di omicidio.\")"
   ]
  },
  {
   "cell_type": "markdown",
   "id": "a876ac03",
   "metadata": {},
   "source": [
    "**Output:**\n",
    "\n",
    "```\n",
    "Non possiamo concludere che si tratti di omicidio.\n",
    "```"
   ]
  },
  {
   "cell_type": "markdown",
   "id": "1d0a52f5",
   "metadata": {},
   "source": [
    "##### Aggiunta di Altre Regole\n",
    "\n",
    "Aggiungiamo la regola per l'**omicidio colposo**:"
   ]
  },
  {
   "cell_type": "code",
   "execution_count": null,
   "id": "00e3df9a",
   "metadata": {},
   "outputs": [],
   "source": [
    "# Definizione del reato di Omicidio Colposo\n",
    "OmicidioColposo = symbols('OmicidioColposo')\n",
    "\n",
    "# Regola per Omicidio Colposo: Azione e Nesso Causale senza Intenzione\n",
    "regola_omicidio_colposo = Implies(And(Azione, Not(Intenzione), NessoCausale), OmicidioColposo)\n",
    "\n",
    "# Aggiorniamo la base di conoscenza\n",
    "base_conoscenza = And(fatto1, fatto2, fatto3, regola_omicidio, regola_omicidio_colposo)"
   ]
  },
  {
   "cell_type": "markdown",
   "id": "b88bfb3e",
   "metadata": {},
   "source": [
    "**Inferenza per Omicidio Colposo**"
   ]
  },
  {
   "cell_type": "code",
   "execution_count": null,
   "id": "7deda032",
   "metadata": {},
   "outputs": [
    {
     "name": "stdout",
     "output_type": "stream",
     "text": [
      "Si configura il reato di omicidio colposo.\n"
     ]
    }
   ],
   "source": [
    "# Verifichiamo se si configura l'Omicidio Colposo\n",
    "ipotesi = And(base_conoscenza, Not(OmicidioColposo))\n",
    "risultato = satisfiable(ipotesi)\n",
    "\n",
    "if not risultato:\n",
    "    print(\"Si configura il reato di omicidio colposo.\")\n",
    "else:\n",
    "    print(\"Non possiamo concludere che si tratti di omicidio colposo.\")"
   ]
  },
  {
   "cell_type": "markdown",
   "id": "b7d16630",
   "metadata": {},
   "source": [
    "#### **Output:**\n",
    "\n",
    "```\n",
    "Si configura il reato di omicidio colposo.\n",
    "```"
   ]
  },
  {
   "cell_type": "markdown",
   "id": "8cac229d",
   "metadata": {},
   "source": [
    "#### Conclusione\n",
    "\n",
    "Abbiamo visto come utilizzare SymPy per modellare un semplice sistema esperto nel campo del diritto penale. Questo esempio illustra come le regole legali e i fatti possono essere formalizzati utilizzando la logica proposizionale, permettendo al sistema di effettuare inferenze logiche.\n",
    "\n",
    "Ricorda che questo è un modello semplificato e che il diritto penale è complesso e richiede una comprensione approfondita per essere modellato accuratamente. Questo sistema può essere un punto di partenza per sviluppi più avanzati e per esplorare l'intersezione tra intelligenza artificiale e diritto."
   ]
  }
 ],
 "metadata": {
  "kernelspec": {
   "display_name": "Python 3",
   "language": "python",
   "name": "python3"
  },
  "language_info": {
   "codemirror_mode": {
    "name": "ipython",
    "version": 3
   },
   "file_extension": ".py",
   "mimetype": "text/x-python",
   "name": "python",
   "nbconvert_exporter": "python",
   "pygments_lexer": "ipython3",
   "version": "3.12.4"
  }
 },
 "nbformat": 4,
 "nbformat_minor": 5
}
